{
  "nbformat": 4,
  "nbformat_minor": 0,
  "metadata": {
    "colab": {
      "provenance": []
    },
    "kernelspec": {
      "name": "python3",
      "display_name": "Python 3"
    },
    "language_info": {
      "name": "python"
    }
  },
  "cells": [
    {
      "cell_type": "markdown",
      "source": [
        "bar plot based of Frequency distribution of desired profession of the students"
      ],
      "metadata": {
        "id": "rkR_IEcQK-hY"
      }
    },
    {
      "cell_type": "code",
      "source": [
        "age_group_counts = df3[\"profession\"].value_counts()\n",
        "\n",
        "# Plot a bar diagram\n",
        "plt.figure(figsize=(22, 15))\n",
        "age_group_counts.sort_index().plot(kind='bar', color='lightyellow', edgecolor='black')\n",
        "\n",
        "# Add labels and title\n",
        "plt.xlabel('Desired profession', fontsize=12)\n",
        "plt.ylabel('Number of samples', fontsize=12)\n",
        "plt.title(\"Distribution of Students' desired profession\", fontsize=14)\n",
        "plt.xticks(rotation=85, fontsize=10)\n",
        "plt.yticks(fontsize=10)\n",
        "\n",
        "# Show grid lines\n",
        "plt.grid(axis='y', linestyle='--', alpha=0.7)\n",
        "\n",
        "# Show the plot\n",
        "plt.tight_layout()\n",
        "plt.show()"
      ],
      "metadata": {
        "id": "n2rbeoWIK-NH"
      },
      "execution_count": null,
      "outputs": []
    },
    {
      "cell_type": "markdown",
      "source": [
        "### To examine association between al_media_influence and Degree"
      ],
      "metadata": {
        "id": "beo5z3sDK1vu"
      }
    },
    {
      "cell_type": "code",
      "execution_count": null,
      "metadata": {
        "id": "gcomlZNGKzuD"
      },
      "outputs": [],
      "source": [
        "# Create a contingency table\n",
        "contingency_table = pd.crosstab(df3['social_media_influence'], df3[\"Degree \"])\n",
        "\n",
        "# Perform Chi-Square Test\n",
        "chi2, p, dof, expected = stats.chi2_contingency(contingency_table)\n",
        "\n",
        "# Results\n",
        "#print(\"Contingency Table:\\n\", contingency_table)\n",
        "print(\"Chi-Square Statistic:\", chi2)\n",
        "print(\"p-value:\", p)\n",
        "print(\"Degrees of Freedom:\", dof)\n",
        "#print(\"Expected Frequencies:\\n\", expected)\n",
        "\n",
        "# Interpretation\n",
        "alpha = 0.05\n",
        "if p <= alpha:\n",
        "    print(\"Reject the null hypothesis: Degree and parents_influence are dependent.\")\n",
        "else:\n",
        "    print(\"Fail to reject the null hypothesis: profession chosen and parent's occupation are independent.\")"
      ]
    },
    {
      "cell_type": "markdown",
      "source": [
        "Performing Chi-square test for Indepence b/w 'Degree' and 'parents_influence'"
      ],
      "metadata": {
        "id": "bx7bj209ZtgG"
      }
    },
    {
      "cell_type": "code",
      "source": [
        "# Create a contingency table\n",
        "contingency_table = pd.crosstab(df3['Degree '], df3['parents_influence'])\n",
        "\n",
        "# Perform Chi-Square Test\n",
        "chi2, p, dof, expected = stats.chi2_contingency(contingency_table)\n",
        "\n",
        "# Results\n",
        "#print(\"Contingency Table:\\n\", contingency_table)\n",
        "print(\"Chi-Square Statistic:\", chi2)\n",
        "print(\"p-value:\", p)\n",
        "print(\"Degrees of Freedom:\", dof)\n",
        "#print(\"Expected Frequencies:\\n\", expected)\n",
        "\n",
        "# Interpretation\n",
        "alpha = 0.05\n",
        "if p <= alpha:\n",
        "    print(\"Reject the null hypothesis: Degree and parents_influence are dependent.\")\n",
        "else:\n",
        "    print(\"Fail to reject the null hypothesis: Degree and parents_influence are independent.\")"
      ],
      "metadata": {
        "id": "jDlQ0siYZy3f",
        "colab": {
          "base_uri": "https://localhost:8080/"
        },
        "outputId": "101bd7a4-d967-4066-eb45-c4ef643f6cc7"
      },
      "execution_count": null,
      "outputs": [
        {
          "output_type": "stream",
          "name": "stdout",
          "text": [
            "Chi-Square Statistic: 51.26540747974704\n",
            "p-value: 0.781724470003274\n",
            "Degrees of Freedom: 60\n",
            "Fail to reject the null hypothesis: Degree and parents_influence are independent.\n"
          ]
        }
      ]
    },
    {
      "cell_type": "markdown",
      "source": [
        "### Spearman's rank correlation"
      ],
      "metadata": {
        "id": "Phx8DspjZH-B"
      }
    },
    {
      "cell_type": "code",
      "source": [
        "# Spearman's rank correlation\n",
        "corr, p_value = spearmanr(df3['Financially constrained_coded'].dropna(), df3['profession'].dropna())\n",
        "\n",
        "print(f\"Spearman's Rank Correlation: {corr}\")\n",
        "print(f\"P-value: {p_value}\")"
      ],
      "metadata": {
        "id": "oW1urS288UGt",
        "colab": {
          "base_uri": "https://localhost:8080/"
        },
        "outputId": "ae8ae27b-6660-417c-cf76-1fed2702a286"
      },
      "execution_count": null,
      "outputs": [
        {
          "output_type": "stream",
          "name": "stdout",
          "text": [
            "Spearman's Rank Correlation: -0.17066875718318325\n",
            "P-value: 0.025193208036230014\n"
          ]
        }
      ]
    },
    {
      "cell_type": "code",
      "source": [
        "corr, p_value = spearmanr(df3['Financially constrained_coded'], df3['Expected_salary'].fillna(0))\n",
        "\n",
        "print(f\"Spearman's Rank Correlation: {corr}\")\n",
        "print(f\"P-value: {p_value}\")"
      ],
      "metadata": {
        "id": "6OLMserV9J3E",
        "colab": {
          "base_uri": "https://localhost:8080/"
        },
        "outputId": "11a0ea95-3f37-4ba2-cf81-7fbdd1cb8b61"
      },
      "execution_count": null,
      "outputs": [
        {
          "output_type": "stream",
          "name": "stdout",
          "text": [
            "Spearman's Rank Correlation: -0.11756062539336253\n",
            "P-value: 0.12456747013348592\n"
          ]
        }
      ]
    },
    {
      "cell_type": "markdown",
      "source": [
        "### Trying to Predict CGPA based on Percentage of marks obtained in class 10 and 12 (Linear Regression Approch)"
      ],
      "metadata": {
        "id": "x17lSEfhXMIR"
      }
    },
    {
      "cell_type": "code",
      "execution_count": null,
      "metadata": {
        "id": "w711pQvhbJ9u",
        "colab": {
          "base_uri": "https://localhost:8080/"
        },
        "outputId": "1e81416e-831a-4f35-b8b5-a6e96116ad35"
      },
      "outputs": [
        {
          "output_type": "stream",
          "name": "stdout",
          "text": [
            "                            OLS Regression Results                            \n",
            "==============================================================================\n",
            "Dep. Variable:                   CGPA   R-squared:                       0.106\n",
            "Model:                            OLS   Adj. R-squared:                  0.096\n",
            "Method:                 Least Squares   F-statistic:                     10.04\n",
            "Date:                Fri, 03 Jan 2025   Prob (F-statistic):           7.58e-05\n",
            "Time:                        18:20:11   Log-Likelihood:                -392.57\n",
            "No. Observations:                 172   AIC:                             791.1\n",
            "Df Residuals:                     169   BIC:                             800.6\n",
            "Df Model:                           2                                         \n",
            "Covariance Type:            nonrobust                                         \n",
            "==============================================================================\n",
            "                 coef    std err          t      P>|t|      [0.025      0.975]\n",
            "------------------------------------------------------------------------------\n",
            "const         -1.0520      1.986     -0.530      0.597      -4.973       2.869\n",
            "Percent_10    -0.0084      0.021     -0.398      0.691      -0.050       0.033\n",
            "Percent_12     0.0978      0.024      4.117      0.000       0.051       0.145\n",
            "==============================================================================\n",
            "Omnibus:                       59.031   Durbin-Watson:                   1.779\n",
            "Prob(Omnibus):                  0.000   Jarque-Bera (JB):              117.048\n",
            "Skew:                          -1.644   Prob(JB):                     3.83e-26\n",
            "Kurtosis:                       5.350   Cond. No.                     1.33e+03\n",
            "==============================================================================\n",
            "\n",
            "Notes:\n",
            "[1] Standard Errors assume that the covariance matrix of the errors is correctly specified.\n",
            "[2] The condition number is large, 1.33e+03. This might indicate that there are\n",
            "strong multicollinearity or other numerical problems.\n"
          ]
        }
      ],
      "source": [
        "# Define the independent variables (X) and the dependent variable (y)\n",
        "X = df3[['Percent_10', 'Percent_12']]\n",
        "y = df3['CGPA']\n",
        "\n",
        "# Add a constant to the model (intercept)\n",
        "X = sm.add_constant(X)\n",
        "\n",
        "# Fit the model\n",
        "model_stats1 = sm.OLS(y, X).fit()\n",
        "\n",
        "# Print the summary of the regression\n",
        "print(model_stats1.summary())"
      ]
    },
    {
      "cell_type": "markdown",
      "source": [
        "\n",
        "\n",
        "```\n",
        "\n",
        "\n",
        "Durbin-Watson Test:\n",
        "\tHypotheses for the Durbin-Watson Test:\n",
        "Null Hypothesis (H0): There is no first-order autocorrelation in the residuals (i.e., the residuals are independent).\n",
        "\t•\t H0: ρ = 0  (where  ρ  is the autocorrelation coefficient)\n",
        "\t•\t H0: DW = 2 (Test statistic is equal to 2)\n",
        "Alternative Hypothesis (Ha): There is first-order autocorrelation in the residuals (i.e., the residuals are correlated).\n",
        "\t•\t Ha: ρ ≠ 0  (where  ρ  is the autocorrelation coefficient)\n",
        "\t•\t Ha: DW ≠ 2 (Test statistic is not equal to 2)\n",
        "\n",
        "\n",
        "Decision Criteria:\n",
        "\t•\tDW Statistic Range: The Durbin-Watson statistic ranges from 0 to 4:\n",
        "\t•\tA value close to 2 indicates no autocorrelation.\n",
        "\t•\tA value less than 2 indicates positive autocorrelation.\n",
        "\t•\tA value greater than 2 indicates negative autocorrelation.\n",
        "```\n"
      ],
      "metadata": {
        "id": "EAEcBUSra0V6"
      }
    },
    {
      "cell_type": "code",
      "source": [
        "const = -1.0520\n",
        "percent_12_coef = 0.0978\n",
        "\n",
        "# Generate sample Percent_12 values (Assuming range from 60% to 100%)\n",
        "percent_12_values = df3['Percent_12']\n",
        "\n",
        "# Calculate corresponding CGPA using the regression equation\n",
        "cgpa_values = const + percent_12_coef * percent_12_values\n",
        "\n",
        "# Plot the regression line\n",
        "plt.figure(figsize=(8, 6))\n",
        "plt.plot(percent_12_values, cgpa_values, color='blue', label='Regression Line')\n",
        "plt.scatter(percent_12_values, df3['CGPA'], color='red', alpha=0.5, label='Data Points (Approx.)')\n",
        "plt.title('Regression Line: Percent_12 vs. CGPA')\n",
        "plt.xlabel('Percent_12 (%)')\n",
        "plt.ylabel('Predicted CGPA')\n",
        "plt.legend()\n",
        "plt.grid(True)\n",
        "plt.show()"
      ],
      "metadata": {
        "colab": {
          "base_uri": "https://localhost:8080/",
          "height": 564
        },
        "id": "7k1yZqpNVmD2",
        "outputId": "f69d8422-8ae8-4e37-94b6-aa75a8925214"
      },
      "execution_count": null,
      "outputs": [
        {
          "output_type": "display_data",
          "data": {
            "text/plain": [
              "<Figure size 800x600 with 1 Axes>"
            ],
            "image/png": "[encoded data removed]"
          },
          "metadata": {}
        }
      ]
    }
  ]
}